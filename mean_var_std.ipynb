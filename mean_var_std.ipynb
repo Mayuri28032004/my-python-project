{
 "cells": [
  {
   "cell_type": "code",
   "execution_count": 10,
   "id": "72040667-6cbb-4677-a454-1fbcb0f146bd",
   "metadata": {},
   "outputs": [
    {
     "name": "stdout",
     "output_type": "stream",
     "text": [
      "{'mean': [[3.0, 4.0, 5.0], [1.0, 4.0, 7.0], 4.0], 'variance': [[6.0, 6.0, 6.0], [0.6666666666666666, 0.6666666666666666, 0.6666666666666666], 6.666666666666667], 'standard deviation': [[2.449489742783178, 2.449489742783178, 2.449489742783178], [0.816496580927726, 0.816496580927726, 0.816496580927726], 2.581988897471611], 'min': [[0, 1, 2], [0, 3, 6], 0], 'max': [[6, 7, 8], [2, 5, 8], 8], 'sum': [[9, 12, 15], [3, 12, 21], 36]}\n"
     ]
    }
   ],
   "source": [
    "import numpy as np\n",
    "# Check if the list has exactly 9 elements\n",
    "def calculate(numbers):\n",
    "    if len(numbers)!=9:\n",
    "        raise ValueError(\"List must contain nine numbers.\")\n",
    "    # Convert list to a 3x3 NumPy array    \n",
    "    matrix= np.array(numbers).reshape(3,3)\n",
    "    calculations = {\n",
    "        'mean':[\n",
    "            matrix.mean(axis=0).tolist(), # Mean of columns\n",
    "            matrix.mean(axis=1).tolist(), # Mean of rows\n",
    "            matrix.mean().tolist()          # Mean of flattened matrix\n",
    "        ],\n",
    "        'variance':[\n",
    "            matrix.var(axis=0).tolist(),\n",
    "            matrix.var(axis=1).tolist(),\n",
    "            matrix.var().tolist()\n",
    "        ],\n",
    "        'standard deviation': [\n",
    "            matrix.std(axis=0).tolist(),\n",
    "            matrix.std(axis=1).tolist(),\n",
    "            matrix.std().tolist()\n",
    "        ],\n",
    "        'min':[\n",
    "            matrix.min(axis=0).tolist(),\n",
    "            matrix.min(axis=1).tolist(),\n",
    "            matrix.min().tolist()\n",
    "        ],\n",
    "        'max':[\n",
    "            matrix.max(axis=0).tolist(),\n",
    "            matrix.max(axis=1).tolist(),\n",
    "            matrix.max().tolist()\n",
    "        ],\n",
    "\n",
    "        'sum':[\n",
    "            matrix.sum(axis=0).tolist(),\n",
    "            matrix.sum(axis=1).tolist(),\n",
    "            matrix.sum().tolist()\n",
    "        ]\n",
    "    }\n",
    "    \n",
    "    return calculations\n",
    "#Test    \n",
    "print(calculate([0,1,2,3,4,5,6,7,8]))"
   ]
  },
  {
   "cell_type": "code",
   "execution_count": null,
   "id": "4a58d756-c031-47cf-af00-1026531802d5",
   "metadata": {},
   "outputs": [],
   "source": []
  }
 ],
 "metadata": {
  "kernelspec": {
   "display_name": "Python 3 (ipykernel)",
   "language": "python",
   "name": "python3"
  },
  "language_info": {
   "codemirror_mode": {
    "name": "ipython",
    "version": 3
   },
   "file_extension": ".py",
   "mimetype": "text/x-python",
   "name": "python",
   "nbconvert_exporter": "python",
   "pygments_lexer": "ipython3",
   "version": "3.13.5"
  }
 },
 "nbformat": 4,
 "nbformat_minor": 5
}
